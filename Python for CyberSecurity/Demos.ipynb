{
 "cells": [
  {
   "cell_type": "code",
   "execution_count": 1,
   "id": "02000a86",
   "metadata": {},
   "outputs": [],
   "source": [
    "import scapy"
   ]
  },
  {
   "cell_type": "code",
   "execution_count": 5,
   "id": "ab29a6ce",
   "metadata": {},
   "outputs": [
    {
     "data": {
      "text/plain": [
       "['__add__',\n",
       " '__class__',\n",
       " '__contains__',\n",
       " '__delattr__',\n",
       " '__dir__',\n",
       " '__doc__',\n",
       " '__eq__',\n",
       " '__format__',\n",
       " '__ge__',\n",
       " '__getattribute__',\n",
       " '__getitem__',\n",
       " '__getnewargs__',\n",
       " '__gt__',\n",
       " '__hash__',\n",
       " '__init__',\n",
       " '__init_subclass__',\n",
       " '__iter__',\n",
       " '__le__',\n",
       " '__len__',\n",
       " '__lt__',\n",
       " '__mod__',\n",
       " '__mul__',\n",
       " '__ne__',\n",
       " '__new__',\n",
       " '__reduce__',\n",
       " '__reduce_ex__',\n",
       " '__repr__',\n",
       " '__rmod__',\n",
       " '__rmul__',\n",
       " '__setattr__',\n",
       " '__sizeof__',\n",
       " '__str__',\n",
       " '__subclasshook__',\n",
       " 'capitalize',\n",
       " 'casefold',\n",
       " 'center',\n",
       " 'count',\n",
       " 'encode',\n",
       " 'endswith',\n",
       " 'expandtabs',\n",
       " 'find',\n",
       " 'format',\n",
       " 'format_map',\n",
       " 'index',\n",
       " 'isalnum',\n",
       " 'isalpha',\n",
       " 'isascii',\n",
       " 'isdecimal',\n",
       " 'isdigit',\n",
       " 'isidentifier',\n",
       " 'islower',\n",
       " 'isnumeric',\n",
       " 'isprintable',\n",
       " 'isspace',\n",
       " 'istitle',\n",
       " 'isupper',\n",
       " 'join',\n",
       " 'ljust',\n",
       " 'lower',\n",
       " 'lstrip',\n",
       " 'maketrans',\n",
       " 'partition',\n",
       " 'removeprefix',\n",
       " 'removesuffix',\n",
       " 'replace',\n",
       " 'rfind',\n",
       " 'rindex',\n",
       " 'rjust',\n",
       " 'rpartition',\n",
       " 'rsplit',\n",
       " 'rstrip',\n",
       " 'split',\n",
       " 'splitlines',\n",
       " 'startswith',\n",
       " 'strip',\n",
       " 'swapcase',\n",
       " 'title',\n",
       " 'translate',\n",
       " 'upper',\n",
       " 'zfill']"
      ]
     },
     "execution_count": 5,
     "metadata": {},
     "output_type": "execute_result"
    }
   ],
   "source": [
    "dir(scapy.__doc__)"
   ]
  },
  {
   "cell_type": "code",
   "execution_count": 6,
   "id": "a6fc1c3c",
   "metadata": {},
   "outputs": [
    {
     "data": {
      "text/plain": [
       "['VERSION',\n",
       " 'VERSION_MAIN',\n",
       " '_SCAPY_PKG_DIR',\n",
       " '__builtins__',\n",
       " '__cached__',\n",
       " '__doc__',\n",
       " '__file__',\n",
       " '__loader__',\n",
       " '__name__',\n",
       " '__package__',\n",
       " '__path__',\n",
       " '__spec__',\n",
       " '__version__',\n",
       " '_tmp',\n",
       " '_version',\n",
       " '_version_from_git_describe',\n",
       " 'os',\n",
       " 're',\n",
       " 'subprocess']"
      ]
     },
     "execution_count": 6,
     "metadata": {},
     "output_type": "execute_result"
    }
   ],
   "source": [
    "dir(scapy)"
   ]
  },
  {
   "cell_type": "code",
   "execution_count": 7,
   "id": "5e019d8b",
   "metadata": {},
   "outputs": [
    {
     "data": {
      "text/plain": [
       "'2.4.5'"
      ]
     },
     "execution_count": 7,
     "metadata": {},
     "output_type": "execute_result"
    }
   ],
   "source": [
    "scapy.VERSION"
   ]
  },
  {
   "cell_type": "code",
   "execution_count": 9,
   "id": "74024130",
   "metadata": {},
   "outputs": [],
   "source": [
    "from scapy import *"
   ]
  },
  {
   "cell_type": "code",
   "execution_count": 13,
   "id": "e0f1900f",
   "metadata": {},
   "outputs": [],
   "source": [
    "packet = rdpcap(\"packet.pcap\")"
   ]
  },
  {
   "cell_type": "code",
   "execution_count": 14,
   "id": "2ac642c0",
   "metadata": {},
   "outputs": [
    {
     "data": {
      "text/plain": [
       "<packet.pcap: TCP:16 UDP:4 ICMP:0 Other:0>"
      ]
     },
     "execution_count": 14,
     "metadata": {},
     "output_type": "execute_result"
    }
   ],
   "source": [
    "packet"
   ]
  },
  {
   "cell_type": "code",
   "execution_count": 15,
   "id": "e9838819",
   "metadata": {},
   "outputs": [],
   "source": [
    "p=packet[0]"
   ]
  },
  {
   "cell_type": "code",
   "execution_count": 16,
   "id": "a6893caf",
   "metadata": {},
   "outputs": [
    {
     "data": {
      "text/plain": [
       "<Ether  dst=34:c9:3d:16:b1:ab src=36:33:3d:3c:e6:f9 type=IPv4 |<IP  version=4 ihl=5 tos=0x0 len=40 id=58277 flags=DF frag=0 ttl=237 proto=tcp chksum=0xd4f0 src=54.205.99.23 dst=192.168.122.172 |<TCP  sport=https dport=59318 seq=1510461797 ack=694432310 dataofs=5 reserved=0 flags=A window=180 chksum=0x696e urgptr=0 |>>>"
      ]
     },
     "execution_count": 16,
     "metadata": {},
     "output_type": "execute_result"
    }
   ],
   "source": [
    "p"
   ]
  },
  {
   "cell_type": "code",
   "execution_count": 18,
   "id": "aa856b73",
   "metadata": {},
   "outputs": [
    {
     "name": "stdout",
     "output_type": "stream",
     "text": [
      "###[ Ethernet ]### \n",
      "  dst       = 34:c9:3d:16:b1:ab\n",
      "  src       = 36:33:3d:3c:e6:f9\n",
      "  type      = IPv4\n",
      "###[ IP ]### \n",
      "     version   = 4\n",
      "     ihl       = 5\n",
      "     tos       = 0x0\n",
      "     len       = 40\n",
      "     id        = 58277\n",
      "     flags     = DF\n",
      "     frag      = 0\n",
      "     ttl       = 237\n",
      "     proto     = tcp\n",
      "     chksum    = 0xd4f0\n",
      "     src       = 54.205.99.23\n",
      "     dst       = 192.168.122.172\n",
      "     \\options   \\\n",
      "###[ TCP ]### \n",
      "        sport     = https\n",
      "        dport     = 59318\n",
      "        seq       = 1510461797\n",
      "        ack       = 694432310\n",
      "        dataofs   = 5\n",
      "        reserved  = 0\n",
      "        flags     = A\n",
      "        window    = 180\n",
      "        chksum    = 0x696e\n",
      "        urgptr    = 0\n",
      "        options   = ''\n",
      "\n"
     ]
    }
   ],
   "source": [
    "p.show()"
   ]
  },
  {
   "cell_type": "code",
   "execution_count": 19,
   "id": "38310248",
   "metadata": {},
   "outputs": [],
   "source": [
    "p[TCP].dport = 8080"
   ]
  },
  {
   "cell_type": "code",
   "execution_count": 20,
   "id": "c4274c78",
   "metadata": {},
   "outputs": [
    {
     "name": "stdout",
     "output_type": "stream",
     "text": [
      "###[ Ethernet ]### \n",
      "  dst       = 34:c9:3d:16:b1:ab\n",
      "  src       = 36:33:3d:3c:e6:f9\n",
      "  type      = IPv4\n",
      "###[ IP ]### \n",
      "     version   = 4\n",
      "     ihl       = 5\n",
      "     tos       = 0x0\n",
      "     len       = 40\n",
      "     id        = 58277\n",
      "     flags     = DF\n",
      "     frag      = 0\n",
      "     ttl       = 237\n",
      "     proto     = tcp\n",
      "     chksum    = 0xd4f0\n",
      "     src       = 54.205.99.23\n",
      "     dst       = 192.168.122.172\n",
      "     \\options   \\\n",
      "###[ TCP ]### \n",
      "        sport     = https\n",
      "        dport     = 8080\n",
      "        seq       = 1510461797\n",
      "        ack       = 694432310\n",
      "        dataofs   = 5\n",
      "        reserved  = 0\n",
      "        flags     = A\n",
      "        window    = 180\n",
      "        chksum    = 0x696e\n",
      "        urgptr    = 0\n",
      "        options   = ''\n",
      "\n"
     ]
    }
   ],
   "source": [
    "p.show()"
   ]
  },
  {
   "cell_type": "code",
   "execution_count": 27,
   "id": "8668971e",
   "metadata": {},
   "outputs": [],
   "source": [
    "p = IP() / TCP()"
   ]
  },
  {
   "cell_type": "code",
   "execution_count": 29,
   "id": "a029611d",
   "metadata": {},
   "outputs": [
    {
     "data": {
      "text/plain": [
       "<IP  frag=0 proto=tcp |<TCP  |>>"
      ]
     },
     "execution_count": 29,
     "metadata": {},
     "output_type": "execute_result"
    }
   ],
   "source": [
    "p"
   ]
  },
  {
   "cell_type": "code",
   "execution_count": 30,
   "id": "ec001de9",
   "metadata": {},
   "outputs": [
    {
     "name": "stdout",
     "output_type": "stream",
     "text": [
      "###[ IP ]### \n",
      "  version   = 4\n",
      "  ihl       = None\n",
      "  tos       = 0x0\n",
      "  len       = None\n",
      "  id        = 1\n",
      "  flags     = \n",
      "  frag      = 0\n",
      "  ttl       = 64\n",
      "  proto     = tcp\n",
      "  chksum    = None\n",
      "  src       = 127.0.0.1\n",
      "  dst       = 127.0.0.1\n",
      "  \\options   \\\n",
      "###[ TCP ]### \n",
      "     sport     = ftp_data\n",
      "     dport     = http\n",
      "     seq       = 0\n",
      "     ack       = 0\n",
      "     dataofs   = None\n",
      "     reserved  = 0\n",
      "     flags     = S\n",
      "     window    = 8192\n",
      "     chksum    = None\n",
      "     urgptr    = 0\n",
      "     options   = ''\n",
      "\n"
     ]
    }
   ],
   "source": [
    "p.show()"
   ]
  },
  {
   "cell_type": "code",
   "execution_count": 31,
   "id": "cf523db3",
   "metadata": {},
   "outputs": [],
   "source": [
    "p[TCP].dport = 2630"
   ]
  },
  {
   "cell_type": "code",
   "execution_count": 32,
   "id": "ba8c3f34",
   "metadata": {},
   "outputs": [
    {
     "name": "stdout",
     "output_type": "stream",
     "text": [
      "###[ IP ]### \n",
      "  version   = 4\n",
      "  ihl       = None\n",
      "  tos       = 0x0\n",
      "  len       = None\n",
      "  id        = 1\n",
      "  flags     = \n",
      "  frag      = 0\n",
      "  ttl       = 64\n",
      "  proto     = tcp\n",
      "  chksum    = None\n",
      "  src       = 127.0.0.1\n",
      "  dst       = 127.0.0.1\n",
      "  \\options   \\\n",
      "###[ TCP ]### \n",
      "     sport     = ftp_data\n",
      "     dport     = 2630\n",
      "     seq       = 0\n",
      "     ack       = 0\n",
      "     dataofs   = None\n",
      "     reserved  = 0\n",
      "     flags     = S\n",
      "     window    = 8192\n",
      "     chksum    = None\n",
      "     urgptr    = 0\n",
      "     options   = ''\n",
      "\n"
     ]
    }
   ],
   "source": [
    "p.show()"
   ]
  },
  {
   "cell_type": "code",
   "execution_count": 35,
   "id": "af5090c4",
   "metadata": {},
   "outputs": [],
   "source": [
    "p = IP(dst=\"8.8.8.8\") / TCP(dport = \"26\")"
   ]
  },
  {
   "cell_type": "code",
   "execution_count": 36,
   "id": "0e21061d",
   "metadata": {},
   "outputs": [
    {
     "name": "stdout",
     "output_type": "stream",
     "text": [
      "###[ IP ]### \n",
      "  version   = 4\n",
      "  ihl       = None\n",
      "  tos       = 0x0\n",
      "  len       = None\n",
      "  id        = 1\n",
      "  flags     = \n",
      "  frag      = 0\n",
      "  ttl       = 64\n",
      "  proto     = tcp\n",
      "  chksum    = None\n",
      "  src       = 192.168.122.172\n",
      "  dst       = 8.8.8.8\n",
      "  \\options   \\\n",
      "###[ TCP ]### \n",
      "     sport     = ftp_data\n",
      "     dport     = '26'\n",
      "     seq       = 0\n",
      "     ack       = 0\n",
      "     dataofs   = None\n",
      "     reserved  = 0\n",
      "     flags     = S\n",
      "     window    = 8192\n",
      "     chksum    = None\n",
      "     urgptr    = 0\n",
      "     options   = ''\n",
      "\n"
     ]
    }
   ],
   "source": [
    "p.show()"
   ]
  },
  {
   "cell_type": "code",
   "execution_count": null,
   "id": "49252f18",
   "metadata": {},
   "outputs": [],
   "source": []
  }
 ],
 "metadata": {
  "kernelspec": {
   "display_name": "Python 3 (ipykernel)",
   "language": "python",
   "name": "python3"
  },
  "language_info": {
   "codemirror_mode": {
    "name": "ipython",
    "version": 3
   },
   "file_extension": ".py",
   "mimetype": "text/x-python",
   "name": "python",
   "nbconvert_exporter": "python",
   "pygments_lexer": "ipython3",
   "version": "3.10.6"
  }
 },
 "nbformat": 4,
 "nbformat_minor": 5
}
